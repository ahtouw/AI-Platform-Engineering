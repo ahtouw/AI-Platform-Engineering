{
  "nbformat": 4,
  "nbformat_minor": 0,
  "metadata": {
    "colab": {
      "name": "SpeechRecognition.ipynb",
      "provenance": [],
      "authorship_tag": "ABX9TyMYx31LBECQ0QFZGt+PBqDh",
      "include_colab_link": true
    },
    "kernelspec": {
      "name": "python3",
      "display_name": "Python 3"
    }
  },
  "cells": [
    {
      "cell_type": "markdown",
      "metadata": {
        "id": "view-in-github",
        "colab_type": "text"
      },
      "source": [
        "<a href=\"https://colab.research.google.com/github/ahtouw/AI-Platform-Engineering/blob/master/SpeechRecognition/SpeechRecognition.ipynb\" target=\"_parent\"><img src=\"https://colab.research.google.com/assets/colab-badge.svg\" alt=\"Open In Colab\"/></a>"
      ]
    },
    {
      "cell_type": "markdown",
      "metadata": {
        "id": "4cDm_oyBRZfA",
        "colab_type": "text"
      },
      "source": [
        "# Speech Recognition using LibriSpeech\n",
        "\n",
        "This file loads data from LibriSpeech ASR (http://www.openslr.org/12/) stored on Google Cloud Storage and creates a speech recognition system with the goal of providing text data for customer support phone calls.\n"
      ]
    },
    {
      "cell_type": "markdown",
      "metadata": {
        "id": "UNLabthjTcEt",
        "colab_type": "text"
      },
      "source": [
        "## Downloading dataset to Colab from GCS"
      ]
    },
    {
      "cell_type": "markdown",
      "metadata": {
        "id": "ugZ_ioGjRKXm",
        "colab_type": "text"
      },
      "source": [
        "**MUST AUTHENTICATE FIRST**"
      ]
    },
    {
      "cell_type": "code",
      "metadata": {
        "id": "X95cO1vkwiTX",
        "colab_type": "code",
        "colab": {}
      },
      "source": [
        "# Container for dataset\n",
        "project_id = 'speech-recog-00001'\n",
        "bucket_name = 'speech-data-bucket'\n",
        "\n",
        "from google.colab import auth\n",
        "auth.authenticate_user()"
      ],
      "execution_count": 0,
      "outputs": []
    },
    {
      "cell_type": "markdown",
      "metadata": {
        "id": "OhCvxJniGYmh",
        "colab_type": "text"
      },
      "source": [
        "**With authentication complete, configure project.**"
      ]
    },
    {
      "cell_type": "code",
      "metadata": {
        "id": "gOCsIeEuGX5c",
        "colab_type": "code",
        "colab": {}
      },
      "source": [
        "%%capture\n",
        "!gcloud config set project {project_id}"
      ],
      "execution_count": 0,
      "outputs": []
    },
    {
      "cell_type": "markdown",
      "metadata": {
        "id": "B785VVaIK0f-",
        "colab_type": "text"
      },
      "source": [
        "**Listing folders of dataset**\n",
        "\n",
        "Note: {bucket_name} refers to python variable created previously.\n"
      ]
    },
    {
      "cell_type": "code",
      "metadata": {
        "id": "xCiZ5W6BMd2e",
        "colab_type": "code",
        "colab": {
          "base_uri": "https://localhost:8080/",
          "height": 151
        },
        "outputId": "e4854881-ab3a-428c-9bb9-c6104ba3e729"
      },
      "source": [
        "!gsutil ls gs://{bucket_name}/dataset/"
      ],
      "execution_count": 3,
      "outputs": [
        {
          "output_type": "stream",
          "text": [
            "gs://speech-data-bucket/dataset/BOOKS.TXT\n",
            "gs://speech-data-bucket/dataset/CHAPTERS.TXT\n",
            "gs://speech-data-bucket/dataset/LICENSE.TXT\n",
            "gs://speech-data-bucket/dataset/README.TXT\n",
            "gs://speech-data-bucket/dataset/SPEAKERS.TXT\n",
            "gs://speech-data-bucket/dataset/dev-clean/\n",
            "gs://speech-data-bucket/dataset/test-clean/\n",
            "gs://speech-data-bucket/dataset/train-clean-100/\n"
          ],
          "name": "stdout"
        }
      ]
    },
    {
      "cell_type": "code",
      "metadata": {
        "id": "RHM-C4EvM7yR",
        "colab_type": "code",
        "colab": {
          "base_uri": "https://localhost:8080/",
          "height": 67
        },
        "outputId": "796d0199-c01a-4fe5-9c87-ab6a930270c3"
      },
      "source": [
        "!gsutil cp gs://{bucket_name}/dataset/BOOKS.TXT /content/BOOKS.txt"
      ],
      "execution_count": 4,
      "outputs": [
        {
          "output_type": "stream",
          "text": [
            "Copying gs://speech-data-bucket/dataset/BOOKS.TXT...\n",
            "/ [1 files][113.0 KiB/113.0 KiB]                                                \n",
            "Operation completed over 1 objects/113.0 KiB.                                    \n"
          ],
          "name": "stdout"
        }
      ]
    }
  ]
}